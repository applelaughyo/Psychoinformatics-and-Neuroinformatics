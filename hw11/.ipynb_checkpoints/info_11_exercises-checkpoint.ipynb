{
 "cells": [
  {
   "cell_type": "markdown",
   "metadata": {
    "id": "XKmzR_wg7igq"
   },
   "source": [
    "# Psychoinformatics - Week 11 (Exercises)\n",
    "by your name (your email)"
   ]
  },
  {
   "cell_type": "code",
   "execution_count": null,
   "metadata": {
    "id": "X9_TZZHg7igs",
    "scrolled": true
   },
   "outputs": [],
   "source": [
    "%config IPCompleter.greedy=True \n",
    "%matplotlib inline\n",
    "\n",
    "from numpy import *\n",
    "from matplotlib.pyplot import *\n",
    "from IPython.display import *\n",
    "import warnings\n",
    "warnings.simplefilter('ignore', DeprecationWarning)\n",
    "from sklearn import *\n",
    "\n",
    "iris = datasets.load_iris()\n",
    "X=iris.data; Y=iris.target"
   ]
  },
  {
   "cell_type": "markdown",
   "metadata": {
    "id": "g2ntEGvU7igt"
   },
   "source": [
    "## 1 Performance Tuning of a Neural Net (8 points)"
   ]
  },
  {
   "cell_type": "markdown",
   "metadata": {
    "id": "IQ2QxFiF7igu"
   },
   "source": [
    "### 1.0 Baseline Performance\n",
    "SVM can reach an classifcation accuracy ~ 8x% correct for the hard Iris problem."
   ]
  },
  {
   "cell_type": "code",
   "execution_count": null,
   "metadata": {
    "id": "l0cJ_dxn7igu"
   },
   "outputs": [],
   "source": [
    "sss=model_selection.StratifiedShuffleSplit(n_splits=5,test_size=0.1) # (45+45+45) vs. (5+5+5)\n",
    "model=svm.SVC(C=10)\n",
    "acc=[]\n",
    "for train_index, test_index in sss.split(X, Y): # 5-fold cross-validation\n",
    "    X_train, X_test = X[train_index], X[test_index]\n",
    "    Y_train, Y_test = Y[train_index], Y[test_index]\n",
    "    model.fit(X_train[:,0:2],Y_train) #training\n",
    "    acc.append(model.predict(X_test[:,0:2])==Y_test) # testing\n",
    "print(np.mean(acc))"
   ]
  },
  {
   "cell_type": "markdown",
   "metadata": {
    "id": "MxN_lu0Y7igv"
   },
   "source": [
    "### 1.1 Tuning your ANN (4 points)\n",
    "Tune your model hyperparameters (# of layers, # of units in each layer, activation function, optimizer, epochs, batch_size, etc.) to see if you can push your ANN performance up to ~9x% correct."
   ]
  },
  {
   "cell_type": "code",
   "execution_count": null,
   "metadata": {
    "id": "opQH3FBU7igv"
   },
   "outputs": [],
   "source": [
    "from keras.models import Sequential\n",
    "from keras.layers import Dense\n",
    "from keras.utils import to_categorical\n",
    "\n",
    "model = Sequential()\n",
    "model.add(Dense(units=3, activation='relu'))\n",
    "model.add(Dense(units=3, activation='softmax'))\n",
    "model.compile(loss='categorical_crossentropy',optimizer='sgd',metrics=['accuracy'])\n",
    "\n",
    "acc=[]\n",
    "for train_index, test_index in sss.split(X, Y): # 5-fold cross-validation\n",
    "    X_train, X_test = X[train_index], X[test_index]\n",
    "    Y_train, Y_test = Y[train_index], Y[test_index]\n",
    "    model.fit(X_train[:,0:2], to_categorical(Y_train), epochs=50, batch_size=15)\n",
    "    acc.append(argmax(model.predict(X_test[:,0:2]),1)==Y_test) # testing\n",
    "print(np.mean(acc))"
   ]
  },
  {
   "cell_type": "markdown",
   "metadata": {
    "id": "zn2YBX-J7igx"
   },
   "source": [
    "### 1.2 Is your (deep) network better than SVM? Why or why not? (4 points)"
   ]
  },
  {
   "cell_type": "markdown",
   "metadata": {
    "id": "IzM2M01x7igx"
   },
   "source": [
    "Please write your answer here."
   ]
  }
 ],
 "metadata": {
  "colab": {
   "collapsed_sections": [],
   "name": "12_exercises.ipynb",
   "provenance": []
  },
  "kernelspec": {
   "display_name": "Python 3",
   "language": "python",
   "name": "python3"
  },
  "language_info": {
   "codemirror_mode": {
    "name": "ipython",
    "version": 3
   },
   "file_extension": ".py",
   "mimetype": "text/x-python",
   "name": "python",
   "nbconvert_exporter": "python",
   "pygments_lexer": "ipython3",
   "version": "3.8.8"
  }
 },
 "nbformat": 4,
 "nbformat_minor": 1
}
