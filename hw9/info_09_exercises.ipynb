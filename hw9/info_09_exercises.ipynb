{
 "cells": [
  {
   "cell_type": "markdown",
   "metadata": {},
   "source": [
    "# Psychoinformatics - Week 9 (Exercises)\n",
    "by 張天瑋"
   ]
  },
  {
   "cell_type": "code",
   "execution_count": 9,
   "metadata": {},
   "outputs": [],
   "source": [
    "import numpy as np\n",
    "from sklearn import *\n",
    "from sklearn import model_selection\n",
    "from matplotlib.pyplot import *\n",
    "from scipy import stats\n",
    "%matplotlib inline"
   ]
  },
  {
   "cell_type": "markdown",
   "metadata": {},
   "source": [
    "## 1 檢查 machine learning pipeline (8 points)"
   ]
  },
  {
   "cell_type": "markdown",
   "metadata": {},
   "source": [
    "### 1.1 請打亂原本的Y觀察正確率是否和chance level (0.33)有差異? 若有, why? (4 points)"
   ]
  },
  {
   "cell_type": "code",
   "execution_count": 16,
   "metadata": {},
   "outputs": [
    {
     "name": "stdout",
     "output_type": "stream",
     "text": [
      "[0 2 2 0 1 1 2 1 0 1 2 2 2 0 1 1 0 2 2 1 0 1 0 2 2 2 0 1 1 0 0 2 0 2 2 1 0\n",
      " 0 0 2 2 2 1 0 1 0 2 2 2 2 1 2 2 1 2 0 1 1 1 0 2 1 0 1 2 2 1 2 1 1 0 0 2 1\n",
      " 0 1 0 1 0 2 1 2 0 2 2 1 2 0 1 0 1 1 1 0 2 0 2 2 0 1 1 2 1 1 1 0 2 2 1 0 0\n",
      " 1 0 2 0 2 1 0 0 0 1 1 0 1 0 0 2 0 1 1 1 0 0 1 2 2 2 0 1 0 1 2 0 2 1 2 0 0\n",
      " 2 0]\n",
      "0.9933333333333333\n",
      "\n",
      "cross validation when shuffle Y: 0.34\n",
      "\n"
     ]
    }
   ],
   "source": [
    "import random\n",
    "# 本題在研究打亂X和打亂Y有差別嗎?\n",
    "iris = datasets.load_iris()\n",
    "X=iris.data\n",
    "Y=iris.target\n",
    "random.shuffle(Y)\n",
    "print(Y)\n",
    "clf=neighbors.KNeighborsClassifier(1)\n",
    "clf.fit(X,Y)\n",
    "accuracy=np.mean(clf.predict(X)==Y)\n",
    "print(accuracy)\n",
    "kfold_model = model_selection.KFold(5)\n",
    "print(fr\"\"\"\n",
    "cross validation when shuffle Y: {model_selection.cross_val_score(clf, X, Y, cv=kfold_model).mean()}\n",
    "\"\"\")"
   ]
  },
  {
   "cell_type": "markdown",
   "metadata": {},
   "source": [
    "正確率只降低一點，因為原本的model用training data來判斷準確率，若有用kfold的方式切一些valid data來算準確率就會發現準確率接近0.33"
   ]
  },
  {
   "cell_type": "markdown",
   "metadata": {},
   "source": [
    "### 1.2 請用母數或無母數統計檢定以下accuracies中的結果是否和chance level (0.5)有差異? 若有, why? (4 points)"
   ]
  },
  {
   "cell_type": "code",
   "execution_count": 17,
   "metadata": {},
   "outputs": [
    {
     "name": "stdout",
     "output_type": "stream",
     "text": [
      "[0 1 0 1 0 1 0 1 0 1 0 1 0 1 0 1 0 1 0 1 0 1 0 1 0 1 0 1 0 1 0 1 0 1 0 1 0\n",
      " 1 0 1 0 1 0 1 0 1 0 1 0 1 0 1 0 1 0 1 0 1 0 1 0 1 0 1 0 1 0 1 0 1 0 1 0 1\n",
      " 0 1 0 1 0 1 0 1 0 1 0 1 0 1 0 1 0 1 0 1 0 1 0 1 0 1 0 1 0 1 0 1 0 1 0 1 0\n",
      " 1 0 1 0 1 0 1 0 1 0 1 0 1 0 1 0 1 0 1 0 1 0 1 0 1 0 1 0 1 0 1 0 1 0 1 0 1\n",
      " 0 1 0 1 0 1 0 1 0 1 0 1 0 1 0 1 0 1 0 1 0 1 0 1 0 1 0 1 0 1 0 1 0 1 0 1 0\n",
      " 1 0 1 0 1 0 1 0 1 0 1 0 1 0 1]\n"
     ]
    }
   ],
   "source": [
    "Y=np.remainder(range(200),2) \n",
    "print(Y) #Y的0和1個數一樣多"
   ]
  },
  {
   "cell_type": "code",
   "execution_count": 18,
   "metadata": {},
   "outputs": [],
   "source": [
    "# 跑一百次測試:\n",
    "clf=svm.SVC()\n",
    "accuracies=[]\n",
    "for i in range(100): \n",
    " X=np.random.rand(200,2) # X取亂數\n",
    " kf=model_selection.KFold(len(Y),shuffle=True) # Leave-one-out cross-validation\n",
    " sc=model_selection.cross_val_score(clf,X,Y,cv=kf)\n",
    " accuracies.append(sc.mean())"
   ]
  },
  {
   "cell_type": "code",
   "execution_count": 20,
   "metadata": {},
   "outputs": [
    {
     "name": "stdout",
     "output_type": "stream",
     "text": [
      "[0.285, 0.505, 0.51, 0.46, 0.505, 0.505, 0.555, 0.535, 0.535, 0.425, 0.5, 0.52, 0.525, 0.46, 0.555, 0.555, 0.505, 0.445, 0.44, 0.485, 0.42, 0.49, 0.515, 0.475, 0.475, 0.41, 0.505, 0.52, 0.59, 0.53, 0.575, 0.48, 0.47, 0.475, 0.32, 0.44, 0.48, 0.515, 0.48, 0.44, 0.52, 0.42, 0.545, 0.53, 0.6, 0.42, 0.505, 0.415, 0.36, 0.32, 0.42, 0.54, 0.565, 0.415, 0.515, 0.53, 0.52, 0.41, 0.425, 0.43, 0.435, 0.59, 0.505, 0.49, 0.59, 0.515, 0.525, 0.515, 0.5, 0.43, 0.435, 0.335, 0.515, 0.445, 0.365, 0.41, 0.425, 0.36, 0.53, 0.49, 0.52, 0.46, 0.47, 0.53, 0.455, 0.51, 0.46, 0.57, 0.5, 0.49, 0.43, 0.54, 0.57, 0.43, 0.515, 0.435, 0.545, 0.54, 0.535, 0.54]\n"
     ]
    },
    {
     "data": {
      "text/plain": [
       "Ttest_1sampResult(statistic=-2.732366912941498, pvalue=0.007447745069906172)"
      ]
     },
     "execution_count": 20,
     "metadata": {},
     "output_type": "execute_result"
    }
   ],
   "source": [
    "# Please do your statistical tests here:\n",
    "print(accuracies)\n",
    "stats.ttest_1samp(accuracies, popmean=0.5)"
   ]
  },
  {
   "cell_type": "markdown",
   "metadata": {},
   "source": [
    "因為pvalue < 0.05，我們可以拒絕accuracies mean = 0.5的虛無假設。\n",
    "原因是我們有用kFold切一部份資料當valid set。若training set剩下的1較多，我們會傾向預測1，但此時valid set的資料卻是0多，反之亦然。"
   ]
  },
  {
   "cell_type": "markdown",
   "metadata": {},
   "source": [
    "### Please submit your HTML notebook before next Monday (11/7)."
   ]
  }
 ],
 "metadata": {
  "kernelspec": {
   "display_name": "Python 3 (ipykernel)",
   "language": "python",
   "name": "python3"
  },
  "language_info": {
   "codemirror_mode": {
    "name": "ipython",
    "version": 3
   },
   "file_extension": ".py",
   "mimetype": "text/x-python",
   "name": "python",
   "nbconvert_exporter": "python",
   "pygments_lexer": "ipython3",
   "version": "3.9.13"
  }
 },
 "nbformat": 4,
 "nbformat_minor": 4
}
