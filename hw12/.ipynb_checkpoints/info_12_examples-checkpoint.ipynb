{
 "cells": [
  {
   "cell_type": "markdown",
   "metadata": {
    "id": "zMpgme1iRLFc"
   },
   "source": [
    "# Psychoinformatics - Week 13 (Examples)\n",
    "by Tsung-Ren (Tren) Huang (trhuang@g.ntu.edu.tw)"
   ]
  },
  {
   "cell_type": "code",
   "execution_count": 1,
   "metadata": {
    "id": "zFR8ZcbPRLFe"
   },
   "outputs": [],
   "source": [
    "%config IPCompleter.greedy=True \n",
    "%matplotlib inline\n",
    "import numpy as np\n",
    "from matplotlib.pyplot import *\n",
    "from IPython.display import *\n",
    "import re\n",
    "import warnings\n",
    "warnings.filterwarnings(\"ignore\") "
   ]
  },
  {
   "cell_type": "markdown",
   "metadata": {
    "id": "RRjttjuQRLFg"
   },
   "source": [
    "## 1 Regular Expression"
   ]
  },
  {
   "cell_type": "markdown",
   "metadata": {
    "id": "dYfFtS4fRLFh"
   },
   "source": [
    "### 1.0 Basic String Operations"
   ]
  },
  {
   "cell_type": "code",
   "execution_count": 2,
   "metadata": {
    "id": "ff1YFbDWRLFh",
    "outputId": "96d943e6-951d-408c-fe81-698c77a16d51"
   },
   "outputs": [
    {
     "name": "stdout",
     "output_type": "stream",
     "text": [
      "this is a built-in module THIS IS A BUILT-IN MODULE\n",
      "['This', 'is', 'a', 'built-in', 'module'] ['This is a built', 'in module']\n",
      "10 built\n",
      "This is a built-in library\n",
      "2\n",
      "============This is a built-in module=============\n"
     ]
    }
   ],
   "source": [
    "a='This is a built-in module'\n",
    "print(a.lower(),a.upper())\n",
    "print(a.split(' '),a.split('-'))\n",
    "print(a.find('built'),a[10:15])\n",
    "print(a.replace('module','library'))\n",
    "print(a.count('is'))\n",
    "print(a.center(50,'='))"
   ]
  },
  {
   "cell_type": "markdown",
   "metadata": {
    "id": "5UKet3-PRLFj"
   },
   "source": [
    "### 1.1 Verification"
   ]
  },
  {
   "cell_type": "code",
   "execution_count": 3,
   "metadata": {
    "id": "gjTVo9uARLFj",
    "outputId": "5cd7a2ab-9d0d-4ff7-981b-4bdd39d91b8e"
   },
   "outputs": [
    {
     "name": "stdout",
     "output_type": "stream",
     "text": [
      "True\n"
     ]
    }
   ],
   "source": [
    "import re\n",
    "print(bool(re.match('[A-Za-z]\\d{9}','S123456789')))"
   ]
  },
  {
   "cell_type": "code",
   "execution_count": 4,
   "metadata": {
    "id": "Rt6jCX6ERLFk",
    "outputId": "e8cb5156-38d8-4435-a973-3536bee4b6e5"
   },
   "outputs": [
    {
     "name": "stdout",
     "output_type": "stream",
     "text": [
      "True\n"
     ]
    }
   ],
   "source": [
    "print(bool(re.match('[^@]+@[^@]+\\.[^@]+','a@b.c')))"
   ]
  },
  {
   "cell_type": "markdown",
   "metadata": {
    "id": "VdoeEqDXRLFk"
   },
   "source": [
    "### 1.2 Search, Match, & Find"
   ]
  },
  {
   "cell_type": "code",
   "execution_count": 5,
   "metadata": {
    "id": "Orb6UOX9RLFk",
    "outputId": "d44037d5-6bc1-4b4a-8820-e5db8b4d5e61"
   },
   "outputs": [
    {
     "name": "stdout",
     "output_type": "stream",
     "text": [
      "--------------------------------------------------\n",
      "search() found: abc\n",
      "match() found: abc\n",
      "findall() found: ['abc']\n",
      "--------------------------------------------------\n",
      "search() found: hello abc\n",
      "findall() found: ['abc']\n",
      "--------------------------------------------------\n",
      "search() found: hi AbC aBc\n",
      "findall() found: ['AbC', 'aBc']\n"
     ]
    }
   ],
   "source": [
    "regex=re.compile('abc',re.IGNORECASE)\n",
    "for txt in ['abc','hello abc','hi AbC aBc']:\n",
    "    print('-'*50)\n",
    "    out=regex.search(txt) #inexact match\n",
    "    if(out): print('search() found:',out.string)\n",
    "    out=regex.match(txt) #exact match\n",
    "    if(out): print('match() found:',out.string)\n",
    "    out=regex.findall(txt) #search into a list\n",
    "    if(out): print('findall() found:',out)"
   ]
  },
  {
   "cell_type": "markdown",
   "metadata": {
    "id": "gO_CToenRLFl"
   },
   "source": [
    "### 1.3 Analysis of retweets"
   ]
  },
  {
   "cell_type": "code",
   "execution_count": 6,
   "metadata": {
    "id": "EH2HXfToRLFl",
    "outputId": "472c634e-df99-4409-a734-be1fe7c5f4a9"
   },
   "outputs": [
    {
     "name": "stdout",
     "output_type": "stream",
     "text": [
      "RT @spiketren RT @spiketren\n",
      "via @spiketren via @spiketren\n"
     ]
    }
   ],
   "source": [
    "tweets=['RT @spiketren  No class tomorrow','No class tomorrow (via @spiketren)']\n",
    "rt=re.compile('(RT|via) (@\\w+)')\n",
    "#rt=re.compile('(RT|\\(via) (@\\w+\\)*)')\n",
    "for t in tweets:\n",
    "    m=rt.search(t)\n",
    "    print(m.group(0),m.group(1),m.group(2));\n",
    "    #print(m[0],m[1],m[2]);\n",
    "    #print(m[2])"
   ]
  },
  {
   "cell_type": "markdown",
   "metadata": {
    "id": "jmFCrUcWRLFm"
   },
   "source": [
    "### 1.4 Collection of email addresses"
   ]
  },
  {
   "cell_type": "code",
   "execution_count": 7,
   "metadata": {
    "id": "1HnYEl7cRLFm",
    "outputId": "34d028eb-58d2-46d2-af07-a3e7c981d66b"
   },
   "outputs": [
    {
     "name": "stdout",
     "output_type": "stream",
     "text": [
      "test\n",
      "pichun_huang@mail.ncku.edu.tw,chendy@mail.ncku.edu.tw\n"
     ]
    }
   ],
   "source": [
    "html='<body><b>test</b><img src=test.jpg></body>'\n",
    "print(re.sub('<[^<]*>','',html))\n",
    "e='@mail.ncku.edu.tw'\n",
    "t='pichun_huang,chendy'\n",
    "print(re.sub('\\w+','\\g<0>'+e,t))"
   ]
  },
  {
   "cell_type": "markdown",
   "metadata": {
    "id": "EgY1TytQRLFm"
   },
   "source": [
    "## 2 Traditional Natural Language Processing (NLP)"
   ]
  },
  {
   "cell_type": "markdown",
   "metadata": {
    "id": "yPGuGVNaRLFm"
   },
   "source": [
    "### 2.0 Download text corpora"
   ]
  },
  {
   "cell_type": "markdown",
   "metadata": {
    "id": "nvHdghjdRLFn"
   },
   "source": [
    "### 2.1 Lexical diversity & Big words"
   ]
  },
  {
   "cell_type": "code",
   "execution_count": 37,
   "metadata": {
    "colab": {
     "base_uri": "https://localhost:8080/"
    },
    "id": "uCjISFFVRLFn",
    "outputId": "bf462b8f-836a-4922-9012-c62260b16382"
   },
   "outputs": [
    {
     "name": "stderr",
     "output_type": "stream",
     "text": [
      "[nltk_data] Downloading collection 'all'\n",
      "[nltk_data]    | \n",
      "[nltk_data]    | Downloading package abc to /Users/tren/nltk_data...\n",
      "[nltk_data]    |   Package abc is already up-to-date!\n",
      "[nltk_data]    | Downloading package alpino to\n",
      "[nltk_data]    |     /Users/tren/nltk_data...\n",
      "[nltk_data]    |   Package alpino is already up-to-date!\n",
      "[nltk_data]    | Downloading package averaged_perceptron_tagger to\n",
      "[nltk_data]    |     /Users/tren/nltk_data...\n",
      "[nltk_data]    |   Package averaged_perceptron_tagger is already up-\n",
      "[nltk_data]    |       to-date!\n",
      "[nltk_data]    | Downloading package averaged_perceptron_tagger_ru to\n",
      "[nltk_data]    |     /Users/tren/nltk_data...\n",
      "[nltk_data]    |   Package averaged_perceptron_tagger_ru is already\n",
      "[nltk_data]    |       up-to-date!\n",
      "[nltk_data]    | Downloading package basque_grammars to\n",
      "[nltk_data]    |     /Users/tren/nltk_data...\n",
      "[nltk_data]    |   Package basque_grammars is already up-to-date!\n",
      "[nltk_data]    | Downloading package biocreative_ppi to\n",
      "[nltk_data]    |     /Users/tren/nltk_data...\n",
      "[nltk_data]    |   Package biocreative_ppi is already up-to-date!\n",
      "[nltk_data]    | Downloading package bllip_wsj_no_aux to\n",
      "[nltk_data]    |     /Users/tren/nltk_data...\n",
      "[nltk_data]    |   Package bllip_wsj_no_aux is already up-to-date!\n",
      "[nltk_data]    | Downloading package book_grammars to\n",
      "[nltk_data]    |     /Users/tren/nltk_data...\n",
      "[nltk_data]    |   Package book_grammars is already up-to-date!\n",
      "[nltk_data]    | Downloading package brown to /Users/tren/nltk_data...\n",
      "[nltk_data]    |   Package brown is already up-to-date!\n",
      "[nltk_data]    | Downloading package brown_tei to\n",
      "[nltk_data]    |     /Users/tren/nltk_data...\n",
      "[nltk_data]    |   Package brown_tei is already up-to-date!\n",
      "[nltk_data]    | Downloading package cess_cat to\n",
      "[nltk_data]    |     /Users/tren/nltk_data...\n",
      "[nltk_data]    |   Package cess_cat is already up-to-date!\n",
      "[nltk_data]    | Downloading package cess_esp to\n",
      "[nltk_data]    |     /Users/tren/nltk_data...\n",
      "[nltk_data]    |   Package cess_esp is already up-to-date!\n",
      "[nltk_data]    | Downloading package chat80 to\n",
      "[nltk_data]    |     /Users/tren/nltk_data...\n",
      "[nltk_data]    |   Package chat80 is already up-to-date!\n",
      "[nltk_data]    | Downloading package city_database to\n",
      "[nltk_data]    |     /Users/tren/nltk_data...\n",
      "[nltk_data]    |   Package city_database is already up-to-date!\n",
      "[nltk_data]    | Downloading package cmudict to\n",
      "[nltk_data]    |     /Users/tren/nltk_data...\n",
      "[nltk_data]    |   Package cmudict is already up-to-date!\n",
      "[nltk_data]    | Downloading package comparative_sentences to\n",
      "[nltk_data]    |     /Users/tren/nltk_data...\n",
      "[nltk_data]    |   Package comparative_sentences is already up-to-\n",
      "[nltk_data]    |       date!\n",
      "[nltk_data]    | Downloading package comtrans to\n",
      "[nltk_data]    |     /Users/tren/nltk_data...\n",
      "[nltk_data]    |   Package comtrans is already up-to-date!\n",
      "[nltk_data]    | Downloading package conll2000 to\n",
      "[nltk_data]    |     /Users/tren/nltk_data...\n",
      "[nltk_data]    |   Package conll2000 is already up-to-date!\n",
      "[nltk_data]    | Downloading package conll2002 to\n",
      "[nltk_data]    |     /Users/tren/nltk_data...\n",
      "[nltk_data]    |   Package conll2002 is already up-to-date!\n",
      "[nltk_data]    | Downloading package conll2007 to\n",
      "[nltk_data]    |     /Users/tren/nltk_data...\n",
      "[nltk_data]    |   Package conll2007 is already up-to-date!\n",
      "[nltk_data]    | Downloading package crubadan to\n",
      "[nltk_data]    |     /Users/tren/nltk_data...\n",
      "[nltk_data]    |   Package crubadan is already up-to-date!\n",
      "[nltk_data]    | Downloading package dependency_treebank to\n",
      "[nltk_data]    |     /Users/tren/nltk_data...\n",
      "[nltk_data]    |   Package dependency_treebank is already up-to-date!\n",
      "[nltk_data]    | Downloading package dolch to /Users/tren/nltk_data...\n",
      "[nltk_data]    |   Package dolch is already up-to-date!\n",
      "[nltk_data]    | Downloading package europarl_raw to\n",
      "[nltk_data]    |     /Users/tren/nltk_data...\n",
      "[nltk_data]    |   Package europarl_raw is already up-to-date!\n",
      "[nltk_data]    | Downloading package extended_omw to\n",
      "[nltk_data]    |     /Users/tren/nltk_data...\n",
      "[nltk_data]    |   Package extended_omw is already up-to-date!\n",
      "[nltk_data]    | Downloading package floresta to\n",
      "[nltk_data]    |     /Users/tren/nltk_data...\n",
      "[nltk_data]    |   Package floresta is already up-to-date!\n",
      "[nltk_data]    | Downloading package framenet_v15 to\n",
      "[nltk_data]    |     /Users/tren/nltk_data...\n",
      "[nltk_data]    |   Package framenet_v15 is already up-to-date!\n",
      "[nltk_data]    | Downloading package framenet_v17 to\n",
      "[nltk_data]    |     /Users/tren/nltk_data...\n",
      "[nltk_data]    |   Package framenet_v17 is already up-to-date!\n",
      "[nltk_data]    | Downloading package gazetteers to\n",
      "[nltk_data]    |     /Users/tren/nltk_data...\n",
      "[nltk_data]    |   Package gazetteers is already up-to-date!\n",
      "[nltk_data]    | Downloading package genesis to\n",
      "[nltk_data]    |     /Users/tren/nltk_data...\n",
      "[nltk_data]    |   Package genesis is already up-to-date!\n",
      "[nltk_data]    | Downloading package gutenberg to\n",
      "[nltk_data]    |     /Users/tren/nltk_data...\n",
      "[nltk_data]    |   Package gutenberg is already up-to-date!\n",
      "[nltk_data]    | Downloading package ieer to /Users/tren/nltk_data...\n",
      "[nltk_data]    |   Package ieer is already up-to-date!\n",
      "[nltk_data]    | Downloading package inaugural to\n",
      "[nltk_data]    |     /Users/tren/nltk_data...\n",
      "[nltk_data]    |   Package inaugural is already up-to-date!\n",
      "[nltk_data]    | Downloading package indian to\n",
      "[nltk_data]    |     /Users/tren/nltk_data...\n",
      "[nltk_data]    |   Package indian is already up-to-date!\n",
      "[nltk_data]    | Downloading package jeita to /Users/tren/nltk_data...\n",
      "[nltk_data]    |   Package jeita is already up-to-date!\n",
      "[nltk_data]    | Downloading package kimmo to /Users/tren/nltk_data...\n",
      "[nltk_data]    |   Package kimmo is already up-to-date!\n",
      "[nltk_data]    | Downloading package knbc to /Users/tren/nltk_data...\n",
      "[nltk_data]    |   Package knbc is already up-to-date!\n",
      "[nltk_data]    | Downloading package large_grammars to\n",
      "[nltk_data]    |     /Users/tren/nltk_data...\n",
      "[nltk_data]    |   Package large_grammars is already up-to-date!\n",
      "[nltk_data]    | Downloading package lin_thesaurus to\n",
      "[nltk_data]    |     /Users/tren/nltk_data...\n",
      "[nltk_data]    |   Package lin_thesaurus is already up-to-date!\n",
      "[nltk_data]    | Downloading package mac_morpho to\n",
      "[nltk_data]    |     /Users/tren/nltk_data...\n",
      "[nltk_data]    |   Package mac_morpho is already up-to-date!\n",
      "[nltk_data]    | Downloading package machado to\n",
      "[nltk_data]    |     /Users/tren/nltk_data...\n",
      "[nltk_data]    |   Package machado is already up-to-date!\n",
      "[nltk_data]    | Downloading package masc_tagged to\n",
      "[nltk_data]    |     /Users/tren/nltk_data...\n",
      "[nltk_data]    |   Package masc_tagged is already up-to-date!\n",
      "[nltk_data]    | Downloading package maxent_ne_chunker to\n",
      "[nltk_data]    |     /Users/tren/nltk_data...\n",
      "[nltk_data]    |   Package maxent_ne_chunker is already up-to-date!\n",
      "[nltk_data]    | Downloading package maxent_treebank_pos_tagger to\n",
      "[nltk_data]    |     /Users/tren/nltk_data...\n",
      "[nltk_data]    |   Package maxent_treebank_pos_tagger is already up-\n",
      "[nltk_data]    |       to-date!\n",
      "[nltk_data]    | Downloading package moses_sample to\n",
      "[nltk_data]    |     /Users/tren/nltk_data...\n",
      "[nltk_data]    |   Package moses_sample is already up-to-date!\n",
      "[nltk_data]    | Downloading package movie_reviews to\n",
      "[nltk_data]    |     /Users/tren/nltk_data...\n",
      "[nltk_data]    |   Package movie_reviews is already up-to-date!\n",
      "[nltk_data]    | Downloading package mte_teip5 to\n",
      "[nltk_data]    |     /Users/tren/nltk_data...\n",
      "[nltk_data]    |   Package mte_teip5 is already up-to-date!\n",
      "[nltk_data]    | Downloading package mwa_ppdb to\n",
      "[nltk_data]    |     /Users/tren/nltk_data...\n",
      "[nltk_data]    |   Package mwa_ppdb is already up-to-date!\n",
      "[nltk_data]    | Downloading package names to /Users/tren/nltk_data...\n",
      "[nltk_data]    |   Package names is already up-to-date!\n",
      "[nltk_data]    | Downloading package nombank.1.0 to\n",
      "[nltk_data]    |     /Users/tren/nltk_data...\n",
      "[nltk_data]    |   Package nombank.1.0 is already up-to-date!\n",
      "[nltk_data]    | Downloading package nonbreaking_prefixes to\n",
      "[nltk_data]    |     /Users/tren/nltk_data...\n",
      "[nltk_data]    |   Package nonbreaking_prefixes is already up-to-date!\n",
      "[nltk_data]    | Downloading package nps_chat to\n",
      "[nltk_data]    |     /Users/tren/nltk_data...\n",
      "[nltk_data]    |   Package nps_chat is already up-to-date!\n",
      "[nltk_data]    | Downloading package omw to /Users/tren/nltk_data...\n",
      "[nltk_data]    |   Package omw is already up-to-date!\n",
      "[nltk_data]    | Downloading package omw-1.4 to\n",
      "[nltk_data]    |     /Users/tren/nltk_data...\n",
      "[nltk_data]    |   Package omw-1.4 is already up-to-date!\n",
      "[nltk_data]    | Downloading package opinion_lexicon to\n",
      "[nltk_data]    |     /Users/tren/nltk_data...\n",
      "[nltk_data]    |   Package opinion_lexicon is already up-to-date!\n",
      "[nltk_data]    | Downloading package panlex_swadesh to\n",
      "[nltk_data]    |     /Users/tren/nltk_data...\n",
      "[nltk_data]    |   Package panlex_swadesh is already up-to-date!\n",
      "[nltk_data]    | Downloading package paradigms to\n",
      "[nltk_data]    |     /Users/tren/nltk_data...\n",
      "[nltk_data]    |   Package paradigms is already up-to-date!\n",
      "[nltk_data]    | Downloading package pe08 to /Users/tren/nltk_data...\n",
      "[nltk_data]    |   Package pe08 is already up-to-date!\n",
      "[nltk_data]    | Downloading package perluniprops to\n",
      "[nltk_data]    |     /Users/tren/nltk_data...\n",
      "[nltk_data]    |   Package perluniprops is already up-to-date!\n",
      "[nltk_data]    | Downloading package pil to /Users/tren/nltk_data...\n",
      "[nltk_data]    |   Package pil is already up-to-date!\n",
      "[nltk_data]    | Downloading package pl196x to\n",
      "[nltk_data]    |     /Users/tren/nltk_data...\n"
     ]
    },
    {
     "name": "stderr",
     "output_type": "stream",
     "text": [
      "[nltk_data]    |   Unzipping corpora/pl196x.zip.\n",
      "[nltk_data]    | Downloading package porter_test to\n",
      "[nltk_data]    |     /Users/tren/nltk_data...\n",
      "[nltk_data]    |   Unzipping stemmers/porter_test.zip.\n",
      "[nltk_data]    | Downloading package ppattach to\n",
      "[nltk_data]    |     /Users/tren/nltk_data...\n",
      "[nltk_data]    |   Unzipping corpora/ppattach.zip.\n",
      "[nltk_data]    | Downloading package problem_reports to\n",
      "[nltk_data]    |     /Users/tren/nltk_data...\n",
      "[nltk_data]    |   Unzipping corpora/problem_reports.zip.\n",
      "[nltk_data]    | Downloading package product_reviews_1 to\n",
      "[nltk_data]    |     /Users/tren/nltk_data...\n",
      "[nltk_data]    |   Unzipping corpora/product_reviews_1.zip.\n",
      "[nltk_data]    | Downloading package product_reviews_2 to\n",
      "[nltk_data]    |     /Users/tren/nltk_data...\n",
      "[nltk_data]    |   Unzipping corpora/product_reviews_2.zip.\n",
      "[nltk_data]    | Downloading package propbank to\n",
      "[nltk_data]    |     /Users/tren/nltk_data...\n",
      "[nltk_data]    | Downloading package pros_cons to\n",
      "[nltk_data]    |     /Users/tren/nltk_data...\n",
      "[nltk_data]    |   Unzipping corpora/pros_cons.zip.\n",
      "[nltk_data]    | Downloading package ptb to /Users/tren/nltk_data...\n",
      "[nltk_data]    |   Unzipping corpora/ptb.zip.\n",
      "[nltk_data]    | Downloading package punkt to /Users/tren/nltk_data...\n",
      "[nltk_data]    |   Unzipping tokenizers/punkt.zip.\n",
      "[nltk_data]    | Downloading package qc to /Users/tren/nltk_data...\n",
      "[nltk_data]    |   Unzipping corpora/qc.zip.\n",
      "[nltk_data]    | Downloading package reuters to\n",
      "[nltk_data]    |     /Users/tren/nltk_data...\n",
      "[nltk_data]    | Downloading package rslp to /Users/tren/nltk_data...\n",
      "[nltk_data]    |   Unzipping stemmers/rslp.zip.\n",
      "[nltk_data]    | Downloading package rte to /Users/tren/nltk_data...\n",
      "[nltk_data]    |   Unzipping corpora/rte.zip.\n",
      "[nltk_data]    | Downloading package sample_grammars to\n",
      "[nltk_data]    |     /Users/tren/nltk_data...\n",
      "[nltk_data]    |   Unzipping grammars/sample_grammars.zip.\n",
      "[nltk_data]    | Downloading package semcor to\n",
      "[nltk_data]    |     /Users/tren/nltk_data...\n",
      "[nltk_data]    | Downloading package senseval to\n",
      "[nltk_data]    |     /Users/tren/nltk_data...\n",
      "[nltk_data]    |   Unzipping corpora/senseval.zip.\n",
      "[nltk_data]    | Downloading package sentence_polarity to\n",
      "[nltk_data]    |     /Users/tren/nltk_data...\n",
      "[nltk_data]    |   Unzipping corpora/sentence_polarity.zip.\n",
      "[nltk_data]    | Downloading package sentiwordnet to\n",
      "[nltk_data]    |     /Users/tren/nltk_data...\n",
      "[nltk_data]    |   Unzipping corpora/sentiwordnet.zip.\n",
      "[nltk_data]    | Downloading package shakespeare to\n",
      "[nltk_data]    |     /Users/tren/nltk_data...\n",
      "[nltk_data]    |   Unzipping corpora/shakespeare.zip.\n",
      "[nltk_data]    | Downloading package sinica_treebank to\n",
      "[nltk_data]    |     /Users/tren/nltk_data...\n",
      "[nltk_data]    |   Unzipping corpora/sinica_treebank.zip.\n",
      "[nltk_data]    | Downloading package smultron to\n",
      "[nltk_data]    |     /Users/tren/nltk_data...\n",
      "[nltk_data]    |   Unzipping corpora/smultron.zip.\n",
      "[nltk_data]    | Downloading package snowball_data to\n",
      "[nltk_data]    |     /Users/tren/nltk_data...\n",
      "[nltk_data]    | Downloading package spanish_grammars to\n",
      "[nltk_data]    |     /Users/tren/nltk_data...\n",
      "[nltk_data]    |   Unzipping grammars/spanish_grammars.zip.\n",
      "[nltk_data]    | Downloading package state_union to\n",
      "[nltk_data]    |     /Users/tren/nltk_data...\n",
      "[nltk_data]    |   Unzipping corpora/state_union.zip.\n",
      "[nltk_data]    | Downloading package stopwords to\n",
      "[nltk_data]    |     /Users/tren/nltk_data...\n",
      "[nltk_data]    |   Unzipping corpora/stopwords.zip.\n",
      "[nltk_data]    | Downloading package subjectivity to\n",
      "[nltk_data]    |     /Users/tren/nltk_data...\n",
      "[nltk_data]    |   Unzipping corpora/subjectivity.zip.\n",
      "[nltk_data]    | Downloading package swadesh to\n",
      "[nltk_data]    |     /Users/tren/nltk_data...\n",
      "[nltk_data]    |   Unzipping corpora/swadesh.zip.\n",
      "[nltk_data]    | Downloading package switchboard to\n",
      "[nltk_data]    |     /Users/tren/nltk_data...\n",
      "[nltk_data]    |   Unzipping corpora/switchboard.zip.\n",
      "[nltk_data]    | Downloading package tagsets to\n",
      "[nltk_data]    |     /Users/tren/nltk_data...\n",
      "[nltk_data]    |   Unzipping help/tagsets.zip.\n",
      "[nltk_data]    | Downloading package timit to /Users/tren/nltk_data...\n",
      "[nltk_data]    |   Unzipping corpora/timit.zip.\n",
      "[nltk_data]    | Downloading package toolbox to\n",
      "[nltk_data]    |     /Users/tren/nltk_data...\n",
      "[nltk_data]    |   Unzipping corpora/toolbox.zip.\n",
      "[nltk_data]    | Downloading package treebank to\n",
      "[nltk_data]    |     /Users/tren/nltk_data...\n",
      "[nltk_data]    |   Unzipping corpora/treebank.zip.\n",
      "[nltk_data]    | Downloading package twitter_samples to\n",
      "[nltk_data]    |     /Users/tren/nltk_data...\n",
      "[nltk_data]    |   Unzipping corpora/twitter_samples.zip.\n",
      "[nltk_data]    | Downloading package udhr to /Users/tren/nltk_data...\n",
      "[nltk_data]    |   Unzipping corpora/udhr.zip.\n",
      "[nltk_data]    | Downloading package udhr2 to /Users/tren/nltk_data...\n",
      "[nltk_data]    |   Unzipping corpora/udhr2.zip.\n",
      "[nltk_data]    | Downloading package unicode_samples to\n",
      "[nltk_data]    |     /Users/tren/nltk_data...\n",
      "[nltk_data]    |   Unzipping corpora/unicode_samples.zip.\n",
      "[nltk_data]    | Downloading package universal_tagset to\n",
      "[nltk_data]    |     /Users/tren/nltk_data...\n",
      "[nltk_data]    |   Unzipping taggers/universal_tagset.zip.\n",
      "[nltk_data]    | Downloading package universal_treebanks_v20 to\n",
      "[nltk_data]    |     /Users/tren/nltk_data...\n",
      "[nltk_data]    | Downloading package vader_lexicon to\n",
      "[nltk_data]    |     /Users/tren/nltk_data...\n",
      "[nltk_data]    | Downloading package verbnet to\n",
      "[nltk_data]    |     /Users/tren/nltk_data...\n",
      "[nltk_data]    |   Unzipping corpora/verbnet.zip.\n",
      "[nltk_data]    | Downloading package verbnet3 to\n",
      "[nltk_data]    |     /Users/tren/nltk_data...\n",
      "[nltk_data]    |   Unzipping corpora/verbnet3.zip.\n",
      "[nltk_data]    | Downloading package webtext to\n",
      "[nltk_data]    |     /Users/tren/nltk_data...\n",
      "[nltk_data]    |   Unzipping corpora/webtext.zip.\n",
      "[nltk_data]    | Downloading package wmt15_eval to\n",
      "[nltk_data]    |     /Users/tren/nltk_data...\n",
      "[nltk_data]    |   Unzipping models/wmt15_eval.zip.\n",
      "[nltk_data]    | Downloading package word2vec_sample to\n",
      "[nltk_data]    |     /Users/tren/nltk_data...\n",
      "[nltk_data]    |   Unzipping models/word2vec_sample.zip.\n",
      "[nltk_data]    | Downloading package wordnet to\n",
      "[nltk_data]    |     /Users/tren/nltk_data...\n",
      "[nltk_data]    | Downloading package wordnet2021 to\n",
      "[nltk_data]    |     /Users/tren/nltk_data...\n",
      "[nltk_data]    | Downloading package wordnet31 to\n",
      "[nltk_data]    |     /Users/tren/nltk_data...\n",
      "[nltk_data]    | Downloading package wordnet_ic to\n",
      "[nltk_data]    |     /Users/tren/nltk_data...\n",
      "[nltk_data]    |   Unzipping corpora/wordnet_ic.zip.\n",
      "[nltk_data]    | Downloading package words to /Users/tren/nltk_data...\n",
      "[nltk_data]    |   Unzipping corpora/words.zip.\n",
      "[nltk_data]    | Downloading package ycoe to /Users/tren/nltk_data...\n",
      "[nltk_data]    |   Unzipping corpora/ycoe.zip.\n",
      "[nltk_data]    | \n",
      "[nltk_data]  Done downloading collection all\n"
     ]
    },
    {
     "data": {
      "text/plain": [
       "True"
      ]
     },
     "execution_count": 37,
     "metadata": {},
     "output_type": "execute_result"
    }
   ],
   "source": [
    "import nltk\n",
    "nltk.download('all')"
   ]
  },
  {
   "cell_type": "code",
   "execution_count": 9,
   "metadata": {
    "id": "yrJGILF_RLFn",
    "outputId": "d7a3cfb6-b512-4af8-dc0a-d4336e0ac9dc"
   },
   "outputs": [
    {
     "name": "stdout",
     "output_type": "stream",
     "text": [
      "3\n"
     ]
    }
   ],
   "source": [
    "a='cat'\n",
    "print(len(a))"
   ]
  },
  {
   "cell_type": "code",
   "execution_count": 38,
   "metadata": {
    "id": "FA7j-vYyRLFo",
    "outputId": "c5086d14-9b87-4910-d381-615cf4c06805"
   },
   "outputs": [
    {
     "name": "stdout",
     "output_type": "stream",
     "text": [
      "*** Introductory Examples for the NLTK Book ***\n",
      "Loading text1, ..., text9 and sent1, ..., sent9\n",
      "Type the name of the text or sentence to view it.\n",
      "Type: 'texts()' or 'sents()' to list the materials.\n",
      "text1: Moby Dick by Herman Melville 1851\n",
      "text2: Sense and Sensibility by Jane Austen 1811\n",
      "text3: The Book of Genesis\n",
      "text4: Inaugural Address Corpus\n",
      "text5: Chat Corpus\n",
      "text6: Monty Python and the Holy Grail\n",
      "text7: Wall Street Journal\n",
      "text8: Personals Corpus\n",
      "text9: The Man Who Was Thursday by G . K . Chesterton 1908\n",
      "0.06556530042314962\n",
      "1392\n"
     ]
    }
   ],
   "source": [
    "from nltk.book import text4 \n",
    "print(len(set(text4))/len(text4)) # lexical diversity\n",
    "long_words=[w for w in set(text4) if len(w)>10] \n",
    "print(len(long_words)) # number of big words"
   ]
  },
  {
   "cell_type": "markdown",
   "metadata": {
    "id": "angszVm8RLFo"
   },
   "source": [
    "### 2.2 Tokenization & Word distributions"
   ]
  },
  {
   "cell_type": "code",
   "execution_count": 39,
   "metadata": {
    "id": "vjB_LVcZRLFp",
    "outputId": "49de7698-9611-4edc-980e-5d8bd2aea1e0"
   },
   "outputs": [
    {
     "name": "stdout",
     "output_type": "stream",
     "text": [
      "['This is a cat.', 'That is a dog.']\n"
     ]
    },
    {
     "data": {
      "image/png": "[encoded data removed]",
      "text/plain": [
       "<Figure size 432x288 with 1 Axes>"
      ]
     },
     "metadata": {
      "needs_background": "light"
     },
     "output_type": "display_data"
    },
    {
     "data": {
      "image/png": "[encoded data removed]",
      "text/plain": [
       "<Figure size 432x288 with 1 Axes>"
      ]
     },
     "metadata": {
      "needs_background": "light"
     },
     "output_type": "display_data"
    },
    {
     "name": "stdout",
     "output_type": "stream",
     "text": [
      "180\n",
      "['of', 'the', 'and', 'to', 'have', 'that', 'which', 'by', ',', '.', 'a', 'in', 'it', 'be', 'is', 'for', 'our', 'we']\n"
     ]
    }
   ],
   "source": [
    "import nltk\n",
    "mytxt='This is a cat. That is a dog.'\n",
    "print(nltk.sent_tokenize(mytxt))\n",
    "text=nltk.Text(nltk.word_tokenize(mytxt))\n",
    "text.plot()\n",
    "text4.dispersion_plot(['democracy','freedom','duties'])\n",
    "dist=nltk.FreqDist(text4)\n",
    "print(dist['freedom'])\n",
    "print([w for w in dist.keys() if dist[w]>1000])"
   ]
  },
  {
   "cell_type": "markdown",
   "metadata": {
    "id": "2oOniVT-RLFp"
   },
   "source": [
    "### 2.3 Term Frequency–Inverse Document Frequency (TF-IDF)"
   ]
  },
  {
   "cell_type": "markdown",
   "metadata": {
    "id": "uHcx7YllRLFq"
   },
   "source": [
    "#### 2.3.1 Functions"
   ]
  },
  {
   "cell_type": "code",
   "execution_count": 12,
   "metadata": {
    "id": "iJeBezMfRLFq"
   },
   "outputs": [],
   "source": [
    "import math\n",
    "def tf(word, count): #count是一個word count的dictionary\n",
    "    return count[word] / sum(count.values())\n",
    "def nDoc_have(word, count_list):\n",
    "    return sum(1 for count in count_list if word in count)\n",
    "def idf(word, count_list):\n",
    "    return math.log(len(count_list)) / (1 + nDoc_have(word, count_list))\n",
    "def tfidf(word, count, count_list):\n",
    "    return tf(word, count) * idf(word, count_list)"
   ]
  },
  {
   "cell_type": "markdown",
   "metadata": {
    "id": "0PN1vnl_RLFr"
   },
   "source": [
    "#### 2.3.2 Testing data"
   ]
  },
  {
   "cell_type": "code",
   "execution_count": 13,
   "metadata": {
    "id": "k6lmW8AcRLFr",
    "outputId": "96a31d28-3d66-44e8-af12-ffbd6b7cb2f2"
   },
   "outputs": [
    {
     "name": "stdout",
     "output_type": "stream",
     "text": [
      "[{'a': 2, 'b': 1, 'c': 1, 'd': 1}, {'a': 1, 'b': 2, 'c': 1, 'd': 1}, {'a': 1, 'b': 1, 'c': 2, 'd': 1}]\n"
     ]
    }
   ],
   "source": [
    "doc=['']*3\n",
    "doc[0]=['a','a','b','c','d']\n",
    "doc[1]=['a','b','b','c','d']\n",
    "doc[2]=['a','b','c','c','d']\n",
    "\n",
    "#construct word counts:\n",
    "count = [{}, {}, {}]\n",
    "\n",
    "for d in range(3):\n",
    "    for word in doc[d]:\n",
    "        if word not in count[d]:\n",
    "            count[d][word]=1\n",
    "        else:\n",
    "            count[d][word]+=1\n",
    "            \n",
    "print(count)"
   ]
  },
  {
   "cell_type": "markdown",
   "metadata": {
    "id": "lqBfBxiiRLFs"
   },
   "source": [
    "#### 2.3.3 TF-IDF"
   ]
  },
  {
   "cell_type": "code",
   "execution_count": 14,
   "metadata": {
    "id": "3Hf1rREVRLFs",
    "outputId": "b8842986-2a32-4816-a43a-981627ff4fc7"
   },
   "outputs": [
    {
     "name": "stdout",
     "output_type": "stream",
     "text": [
      "0.10986122886681099\n"
     ]
    }
   ],
   "source": [
    "print(tfidf('a',count[0],count)) # \"a\" in the first document"
   ]
  },
  {
   "cell_type": "code",
   "execution_count": 15,
   "metadata": {
    "id": "QSEtUGsKRLFs",
    "outputId": "c209bb92-5f85-475d-ec98-17f8f03c8d4d"
   },
   "outputs": [
    {
     "name": "stdout",
     "output_type": "stream",
     "text": [
      "Top words in document 1\n",
      "\tWord: a, TF-IDF: 0.10986\n",
      "\tWord: b, TF-IDF: 0.05493\n",
      "\tWord: c, TF-IDF: 0.05493\n",
      "Top words in document 2\n",
      "\tWord: b, TF-IDF: 0.10986\n",
      "\tWord: a, TF-IDF: 0.05493\n",
      "\tWord: c, TF-IDF: 0.05493\n",
      "Top words in document 3\n",
      "\tWord: c, TF-IDF: 0.10986\n",
      "\tWord: a, TF-IDF: 0.05493\n",
      "\tWord: b, TF-IDF: 0.05493\n"
     ]
    }
   ],
   "source": [
    "#print the tf-idf of each word in each documetes\n",
    "keywords=[]\n",
    "for d in range(3):\n",
    "    print(\"Top words in document {}\".format(d+1))\n",
    "    scores={word: tfidf(word,count[d],count) for word in count[d]}\n",
    "    sorted_words=sorted(scores.items(),key=lambda x:x[1],reverse=True)\n",
    "    for word, score in sorted_words[:3]:\n",
    "        print(\"\\tWord: {}, TF-IDF: {}\".format(word,round(score,5)))\n",
    "        #create a list of keywords:\n",
    "        keywords+=word"
   ]
  },
  {
   "cell_type": "markdown",
   "metadata": {
    "id": "5cbFj4WDRLFt"
   },
   "source": [
    "#### 2.3.4 TF-IDF-based document vectors"
   ]
  },
  {
   "cell_type": "code",
   "execution_count": 16,
   "metadata": {
    "id": "bgja6xW3RLFt",
    "outputId": "d617aa69-1b91-45c0-fa04-f4febd2c6226"
   },
   "outputs": [
    {
     "name": "stdout",
     "output_type": "stream",
     "text": [
      "['c', 'a', 'b']\n",
      "[[0.054930614433405495, 0.10986122886681099, 0.054930614433405495], [0.054930614433405495, 0.054930614433405495, 0.10986122886681099], [0.10986122886681099, 0.054930614433405495, 0.054930614433405495]]\n"
     ]
    }
   ],
   "source": [
    "keywords=list(set(keywords)) #remove duplicates\n",
    "print(keywords)\n",
    "\n",
    "#create a feature vector for each document:\n",
    "fv=['']*3\n",
    "for d in range(3):\n",
    "    idx=0 #feature index\n",
    "    fv[d]=[tfidf(word,count[d],count) for word in keywords]\n",
    "print(fv)"
   ]
  },
  {
   "cell_type": "markdown",
   "metadata": {
    "id": "-YOPRP78RLFu"
   },
   "source": [
    "### 2.4 Chinese \"word\" segementation"
   ]
  },
  {
   "cell_type": "code",
   "execution_count": 18,
   "metadata": {
    "id": "KF4aTZwQRLFu",
    "outputId": "64eaaaa2-8c7e-482b-9b2e-48d6ba7741a8"
   },
   "outputs": [
    {
     "name": "stderr",
     "output_type": "stream",
     "text": [
      "Building prefix dict from the default dictionary ...\n",
      "Dumping model to file cache /var/folders/9p/gv8q6rsj23960sv_fdkvh0jm0000gn/T/jieba.cache\n",
      "Loading model cost 0.536 seconds.\n",
      "Prefix dict has been built successfully.\n"
     ]
    },
    {
     "name": "stdout",
     "output_type": "stream",
     "text": [
      "結巴|到底|會不會|成功|地|分解|這行|字|呢|?\n",
      "結|巴|到底|會|不|會|成功|地|分解|這|行|字|呢|?\n"
     ]
    }
   ],
   "source": [
    "#!pip install jieba\n",
    "import jieba\n",
    "text='結巴到底會不會成功地分解這行字呢?'\n",
    "wordlist=jieba.cut(text,cut_all=False)\n",
    "print(\"|\".join(wordlist))\n",
    "wordlist=jieba.cut(text,cut_all=True)\n",
    "print(\"|\".join(wordlist))"
   ]
  },
  {
   "cell_type": "markdown",
   "metadata": {
    "id": "eBgjyerrRLFv"
   },
   "source": [
    "### 2.5 Topic Modeling"
   ]
  },
  {
   "cell_type": "markdown",
   "metadata": {
    "id": "BfeR6REVRLFv"
   },
   "source": [
    "#### 2.5.0 Word ID & Dictionary"
   ]
  },
  {
   "cell_type": "code",
   "execution_count": 22,
   "metadata": {
    "id": "DvMrVC6JRLFv",
    "outputId": "537caae6-3b65-42ce-bee5-af0f35686c01"
   },
   "outputs": [
    {
     "name": "stdout",
     "output_type": "stream",
     "text": [
      "Dictionary<253854 unique tokens: ['a', 'abacus', 'abilities', 'ability', 'able']...>\n"
     ]
    }
   ],
   "source": [
    "import gensim\n",
    "import gensim.downloader as api\n",
    "corpus=api.load('text8')\n",
    "dictionary=gensim.corpora.Dictionary(corpus) # generate a dictionary from the text corpus\n",
    "print(dictionary)"
   ]
  },
  {
   "cell_type": "code",
   "execution_count": 23,
   "metadata": {
    "id": "ktUK5dnkRLFw",
    "outputId": "622a9a66-4a2d-4071-9d7e-0e505a3794e2"
   },
   "outputs": [
    {
     "name": "stdout",
     "output_type": "stream",
     "text": [
      "[(0, 1), (1, 1), (2, 1), (3, 1)]\n"
     ]
    }
   ],
   "source": [
    "print(dictionary.doc2bow(['a', 'abacus', 'abilities', 'ability']))\n",
    "corpus2=[dictionary.doc2bow(word) for word in corpus]"
   ]
  },
  {
   "cell_type": "markdown",
   "metadata": {
    "id": "PJnsEH-6RLFw"
   },
   "source": [
    "#### 2.5.1 Latent Dirichlet Allocation (LDA)"
   ]
  },
  {
   "cell_type": "code",
   "execution_count": 24,
   "metadata": {
    "id": "Y4nPToHiRLFx"
   },
   "outputs": [],
   "source": [
    "model=gensim.models.ldamodel.LdaModel(corpus2, num_topics=5, id2word=dictionary) #LDA training"
   ]
  },
  {
   "cell_type": "code",
   "execution_count": 25,
   "metadata": {
    "id": "4ettMkeNRLFx",
    "outputId": "9bff5e3f-7306-420b-a67f-89a0b9998e69"
   },
   "outputs": [
    {
     "data": {
      "text/plain": [
       "[(0, '0.057*\"the\" + 0.035*\"of\" + 0.031*\"one\" + 0.024*\"and\" + 0.021*\"a\"'),\n",
       " (1, '0.062*\"the\" + 0.024*\"of\" + 0.023*\"a\" + 0.023*\"one\" + 0.023*\"and\"'),\n",
       " (2, '0.072*\"the\" + 0.035*\"of\" + 0.023*\"one\" + 0.021*\"to\" + 0.020*\"in\"'),\n",
       " (3, '0.054*\"the\" + 0.034*\"of\" + 0.029*\"one\" + 0.028*\"and\" + 0.022*\"in\"'),\n",
       " (4, '0.056*\"the\" + 0.043*\"of\" + 0.028*\"and\" + 0.025*\"in\" + 0.020*\"one\"')]"
      ]
     },
     "execution_count": 25,
     "metadata": {},
     "output_type": "execute_result"
    }
   ],
   "source": [
    "model.print_topics(num_words=5)"
   ]
  },
  {
   "cell_type": "markdown",
   "metadata": {
    "id": "yICGebirRLFx"
   },
   "source": [
    "## 3 Modern Natural Language Processing (NLP)"
   ]
  },
  {
   "cell_type": "markdown",
   "metadata": {
    "id": "YQBW71p2RLFy"
   },
   "source": [
    "### 3.1 Word2Vec\n",
    "Check <a href=\"https://github.com/RaRe-Technologies/gensim-data\">this</a> & <a href=\"https://github.com/3Top/word2vec-api#where-to-get-a-pretrained-models\">this</a> for more text datasets & pretained models."
   ]
  },
  {
   "cell_type": "markdown",
   "metadata": {
    "id": "DRY1cTAHRLFy"
   },
   "source": [
    "#### 3.1.0 Train a model"
   ]
  },
  {
   "cell_type": "code",
   "execution_count": 26,
   "metadata": {
    "id": "jWUWkke6RLFy"
   },
   "outputs": [],
   "source": [
    "import gensim\n",
    "import gensim.downloader as api\n",
    "corpus=api.load('text8')"
   ]
  },
  {
   "cell_type": "code",
   "execution_count": 27,
   "metadata": {
    "id": "719eLk5MRLFz"
   },
   "outputs": [],
   "source": [
    "model = gensim.models.word2vec.Word2Vec(corpus) # training"
   ]
  },
  {
   "cell_type": "code",
   "execution_count": 28,
   "metadata": {
    "id": "y9LW4tWLRLFz",
    "outputId": "b3a6f445-cff0-4e26-8aaa-d2f4d0256873"
   },
   "outputs": [
    {
     "data": {
      "text/plain": [
       "[('driver', 0.7849211692810059),\n",
       " ('motorcycle', 0.7434033751487732),\n",
       " ('cars', 0.7229942679405212),\n",
       " ('taxi', 0.7160823941230774),\n",
       " ('vehicle', 0.6912055611610413),\n",
       " ('truck', 0.686586320400238),\n",
       " ('cab', 0.6670401096343994),\n",
       " ('racing', 0.6656779646873474),\n",
       " ('passenger', 0.6519773006439209),\n",
       " ('sidecar', 0.6474007964134216)]"
      ]
     },
     "execution_count": 28,
     "metadata": {},
     "output_type": "execute_result"
    }
   ],
   "source": [
    "model.wv.most_similar(\"car\") # testing"
   ]
  },
  {
   "cell_type": "markdown",
   "metadata": {
    "id": "rNQFqQNKRLFz"
   },
   "source": [
    "#### 3.1.1 Man:King :: Woman:?"
   ]
  },
  {
   "cell_type": "code",
   "execution_count": 29,
   "metadata": {
    "id": "9XcMiz_fRLFz",
    "outputId": "02fac641-8c88-4756-e972-299fb3e76ab8"
   },
   "outputs": [
    {
     "data": {
      "text/plain": [
       "[('queen', 0.6857359409332275),\n",
       " ('prince', 0.6322767734527588),\n",
       " ('princess', 0.6159293055534363),\n",
       " ('empress', 0.6010196805000305),\n",
       " ('throne', 0.6002517342567444),\n",
       " ('regent', 0.5805041193962097),\n",
       " ('elizabeth', 0.5800679922103882),\n",
       " ('kings', 0.5714446902275085),\n",
       " ('emperor', 0.5714309811592102),\n",
       " ('mary', 0.5664592385292053)]"
      ]
     },
     "execution_count": 29,
     "metadata": {},
     "output_type": "execute_result"
    }
   ],
   "source": [
    "model.wv.most_similar(positive=['woman', 'king'], negative=['man'])"
   ]
  },
  {
   "cell_type": "markdown",
   "metadata": {
    "id": "24JotAD6RLF0"
   },
   "source": [
    "#### 2.6.2 Man:Doctor :: Woman:?"
   ]
  },
  {
   "cell_type": "code",
   "execution_count": 32,
   "metadata": {
    "id": "5WBbYnYMRLF0",
    "outputId": "5330d771-0a5f-4d01-d212-661a08270534"
   },
   "outputs": [
    {
     "data": {
      "text/plain": [
       "[('child', 0.5809516310691833),\n",
       " ('teacher', 0.5554264187812805),\n",
       " ('nurse', 0.5533174872398376),\n",
       " ('murderer', 0.5325186848640442),\n",
       " ('detective', 0.5162506103515625),\n",
       " ('lesbian', 0.5101373791694641),\n",
       " ('priestess', 0.5079809427261353),\n",
       " ('prostitute', 0.5074547529220581),\n",
       " ('helen', 0.5060341358184814),\n",
       " ('herself', 0.49865785241127014)]"
      ]
     },
     "execution_count": 32,
     "metadata": {},
     "output_type": "execute_result"
    }
   ],
   "source": [
    "model.wv.most_similar(positive=['woman', 'doctor'], negative=['man'])"
   ]
  },
  {
   "cell_type": "markdown",
   "metadata": {
    "id": "aEbzUhe1RLF0"
   },
   "source": [
    "#### 2.6.3 (Good + Best)/2 = Better ?"
   ]
  },
  {
   "cell_type": "code",
   "execution_count": 33,
   "metadata": {
    "id": "hvuD32HZRLF1",
    "outputId": "514da8f5-66e1-477e-c18b-1b228a696a80"
   },
   "outputs": [
    {
     "ename": "KeyError",
     "evalue": "\"Key 'Good' not present\"",
     "output_type": "error",
     "traceback": [
      "\u001b[0;31m---------------------------------------------------------------------------\u001b[0m",
      "\u001b[0;31mKeyError\u001b[0m                                  Traceback (most recent call last)",
      "\u001b[0;32m<ipython-input-33-16e4ad0fe71d>\u001b[0m in \u001b[0;36m<module>\u001b[0;34m\u001b[0m\n\u001b[0;32m----> 1\u001b[0;31m \u001b[0mmodel\u001b[0m\u001b[0;34m.\u001b[0m\u001b[0mwv\u001b[0m\u001b[0;34m.\u001b[0m\u001b[0mword_vec\u001b[0m\u001b[0;34m(\u001b[0m\u001b[0;34m'Good'\u001b[0m\u001b[0;34m)\u001b[0m\u001b[0;34m\u001b[0m\u001b[0;34m\u001b[0m\u001b[0m\n\u001b[0m",
      "\u001b[0;32m~/opt/anaconda3/lib/python3.8/site-packages/gensim/utils.py\u001b[0m in \u001b[0;36mnew_func1\u001b[0;34m(*args, **kwargs)\u001b[0m\n\u001b[1;32m   1520\u001b[0m                     \u001b[0mstacklevel\u001b[0m\u001b[0;34m=\u001b[0m\u001b[0;36m2\u001b[0m\u001b[0;34m\u001b[0m\u001b[0;34m\u001b[0m\u001b[0m\n\u001b[1;32m   1521\u001b[0m                 )\n\u001b[0;32m-> 1522\u001b[0;31m                 \u001b[0;32mreturn\u001b[0m \u001b[0mfunc\u001b[0m\u001b[0;34m(\u001b[0m\u001b[0;34m*\u001b[0m\u001b[0margs\u001b[0m\u001b[0;34m,\u001b[0m \u001b[0;34m**\u001b[0m\u001b[0mkwargs\u001b[0m\u001b[0;34m)\u001b[0m\u001b[0;34m\u001b[0m\u001b[0;34m\u001b[0m\u001b[0m\n\u001b[0m\u001b[1;32m   1523\u001b[0m \u001b[0;34m\u001b[0m\u001b[0m\n\u001b[1;32m   1524\u001b[0m             \u001b[0;32mreturn\u001b[0m \u001b[0mnew_func1\u001b[0m\u001b[0;34m\u001b[0m\u001b[0;34m\u001b[0m\u001b[0m\n",
      "\u001b[0;32m~/opt/anaconda3/lib/python3.8/site-packages/gensim/models/keyedvectors.py\u001b[0m in \u001b[0;36mword_vec\u001b[0;34m(self, *args, **kwargs)\u001b[0m\n\u001b[1;32m    458\u001b[0m     \u001b[0;32mdef\u001b[0m \u001b[0mword_vec\u001b[0m\u001b[0;34m(\u001b[0m\u001b[0mself\u001b[0m\u001b[0;34m,\u001b[0m \u001b[0;34m*\u001b[0m\u001b[0margs\u001b[0m\u001b[0;34m,\u001b[0m \u001b[0;34m**\u001b[0m\u001b[0mkwargs\u001b[0m\u001b[0;34m)\u001b[0m\u001b[0;34m:\u001b[0m\u001b[0;34m\u001b[0m\u001b[0;34m\u001b[0m\u001b[0m\n\u001b[1;32m    459\u001b[0m         \u001b[0;34m\"\"\"Compatibility alias for get_vector(); must exist so subclass calls reach subclass get_vector().\"\"\"\u001b[0m\u001b[0;34m\u001b[0m\u001b[0;34m\u001b[0m\u001b[0m\n\u001b[0;32m--> 460\u001b[0;31m         \u001b[0;32mreturn\u001b[0m \u001b[0mself\u001b[0m\u001b[0;34m.\u001b[0m\u001b[0mget_vector\u001b[0m\u001b[0;34m(\u001b[0m\u001b[0;34m*\u001b[0m\u001b[0margs\u001b[0m\u001b[0;34m,\u001b[0m \u001b[0;34m**\u001b[0m\u001b[0mkwargs\u001b[0m\u001b[0;34m)\u001b[0m\u001b[0;34m\u001b[0m\u001b[0;34m\u001b[0m\u001b[0m\n\u001b[0m\u001b[1;32m    461\u001b[0m \u001b[0;34m\u001b[0m\u001b[0m\n\u001b[1;32m    462\u001b[0m     \u001b[0;32mdef\u001b[0m \u001b[0mget_mean_vector\u001b[0m\u001b[0;34m(\u001b[0m\u001b[0mself\u001b[0m\u001b[0;34m,\u001b[0m \u001b[0mkeys\u001b[0m\u001b[0;34m,\u001b[0m \u001b[0mweights\u001b[0m\u001b[0;34m=\u001b[0m\u001b[0;32mNone\u001b[0m\u001b[0;34m,\u001b[0m \u001b[0mpre_normalize\u001b[0m\u001b[0;34m=\u001b[0m\u001b[0;32mTrue\u001b[0m\u001b[0;34m,\u001b[0m \u001b[0mpost_normalize\u001b[0m\u001b[0;34m=\u001b[0m\u001b[0;32mFalse\u001b[0m\u001b[0;34m,\u001b[0m \u001b[0mignore_missing\u001b[0m\u001b[0;34m=\u001b[0m\u001b[0;32mTrue\u001b[0m\u001b[0;34m)\u001b[0m\u001b[0;34m:\u001b[0m\u001b[0;34m\u001b[0m\u001b[0;34m\u001b[0m\u001b[0m\n",
      "\u001b[0;32m~/opt/anaconda3/lib/python3.8/site-packages/gensim/models/keyedvectors.py\u001b[0m in \u001b[0;36mget_vector\u001b[0;34m(self, key, norm)\u001b[0m\n\u001b[1;32m    445\u001b[0m \u001b[0;34m\u001b[0m\u001b[0m\n\u001b[1;32m    446\u001b[0m         \"\"\"\n\u001b[0;32m--> 447\u001b[0;31m         \u001b[0mindex\u001b[0m \u001b[0;34m=\u001b[0m \u001b[0mself\u001b[0m\u001b[0;34m.\u001b[0m\u001b[0mget_index\u001b[0m\u001b[0;34m(\u001b[0m\u001b[0mkey\u001b[0m\u001b[0;34m)\u001b[0m\u001b[0;34m\u001b[0m\u001b[0;34m\u001b[0m\u001b[0m\n\u001b[0m\u001b[1;32m    448\u001b[0m         \u001b[0;32mif\u001b[0m \u001b[0mnorm\u001b[0m\u001b[0;34m:\u001b[0m\u001b[0;34m\u001b[0m\u001b[0;34m\u001b[0m\u001b[0m\n\u001b[1;32m    449\u001b[0m             \u001b[0mself\u001b[0m\u001b[0;34m.\u001b[0m\u001b[0mfill_norms\u001b[0m\u001b[0;34m(\u001b[0m\u001b[0;34m)\u001b[0m\u001b[0;34m\u001b[0m\u001b[0;34m\u001b[0m\u001b[0m\n",
      "\u001b[0;32m~/opt/anaconda3/lib/python3.8/site-packages/gensim/models/keyedvectors.py\u001b[0m in \u001b[0;36mget_index\u001b[0;34m(self, key, default)\u001b[0m\n\u001b[1;32m    419\u001b[0m             \u001b[0;32mreturn\u001b[0m \u001b[0mdefault\u001b[0m\u001b[0;34m\u001b[0m\u001b[0;34m\u001b[0m\u001b[0m\n\u001b[1;32m    420\u001b[0m         \u001b[0;32melse\u001b[0m\u001b[0;34m:\u001b[0m\u001b[0;34m\u001b[0m\u001b[0;34m\u001b[0m\u001b[0m\n\u001b[0;32m--> 421\u001b[0;31m             \u001b[0;32mraise\u001b[0m \u001b[0mKeyError\u001b[0m\u001b[0;34m(\u001b[0m\u001b[0;34mf\"Key '{key}' not present\"\u001b[0m\u001b[0;34m)\u001b[0m\u001b[0;34m\u001b[0m\u001b[0;34m\u001b[0m\u001b[0m\n\u001b[0m\u001b[1;32m    422\u001b[0m \u001b[0;34m\u001b[0m\u001b[0m\n\u001b[1;32m    423\u001b[0m     \u001b[0;32mdef\u001b[0m \u001b[0mget_vector\u001b[0m\u001b[0;34m(\u001b[0m\u001b[0mself\u001b[0m\u001b[0;34m,\u001b[0m \u001b[0mkey\u001b[0m\u001b[0;34m,\u001b[0m \u001b[0mnorm\u001b[0m\u001b[0;34m=\u001b[0m\u001b[0;32mFalse\u001b[0m\u001b[0;34m)\u001b[0m\u001b[0;34m:\u001b[0m\u001b[0;34m\u001b[0m\u001b[0;34m\u001b[0m\u001b[0m\n",
      "\u001b[0;31mKeyError\u001b[0m: \"Key 'Good' not present\""
     ]
    }
   ],
   "source": [
    "model.wv.word_vec('Good')"
   ]
  },
  {
   "cell_type": "code",
   "execution_count": 34,
   "metadata": {
    "id": "JARtygm_RLF1"
   },
   "outputs": [],
   "source": [
    "what=(model.wv.word_vec('good')+model.wv.word_vec('best'))/2"
   ]
  },
  {
   "cell_type": "code",
   "execution_count": 35,
   "metadata": {
    "id": "ER39HStnRLF1",
    "outputId": "f9d90176-fd8b-421e-a11c-e5c481b96f94"
   },
   "outputs": [
    {
     "data": {
      "text/plain": [
       "[('best', 0.8559709787368774),\n",
       " ('good', 0.7881002426147461),\n",
       " ('better', 0.6068601608276367),\n",
       " ('bad', 0.5423668026924133),\n",
       " ('fun', 0.5169402360916138),\n",
       " ('poor', 0.4934327006340027),\n",
       " ('little', 0.49075865745544434),\n",
       " ('helpful', 0.4829798936843872),\n",
       " ('finest', 0.47662466764450073),\n",
       " ('what', 0.47124817967414856)]"
      ]
     },
     "execution_count": 35,
     "metadata": {},
     "output_type": "execute_result"
    }
   ],
   "source": [
    "model.wv.similar_by_vector(what)"
   ]
  },
  {
   "cell_type": "code",
   "execution_count": null,
   "metadata": {
    "id": "K3O8lxodRLF2",
    "outputId": "b320330c-3487-4336-97d2-da64d8aa558c"
   },
   "outputs": [
    {
     "data": {
      "text/plain": [
       "[('better', 0.588021993637085),\n",
       " ('bad', 0.5557962656021118),\n",
       " ('fair', 0.5461308360099792),\n",
       " ('fun', 0.5098727941513062),\n",
       " ('little', 0.4782398045063019),\n",
       " ('leisure', 0.4754738211631775),\n",
       " ('greatest', 0.4739540219306946),\n",
       " ('worst', 0.46178722381591797),\n",
       " ('excellent', 0.4616394340991974),\n",
       " ('practical', 0.4583337903022766)]"
      ]
     },
     "execution_count": 75,
     "metadata": {},
     "output_type": "execute_result"
    }
   ],
   "source": [
    "model.wv.most_similar(positive=['good', 'best'])"
   ]
  },
  {
   "cell_type": "markdown",
   "metadata": {
    "id": "H735xwD2RLF2"
   },
   "source": [
    "### 3.1 Sentence/Document Vector"
   ]
  },
  {
   "cell_type": "code",
   "execution_count": 9,
   "metadata": {
    "id": "bVK9dTSxRLF2"
   },
   "outputs": [],
   "source": [
    "# !pip install spacy or conda install -c conda-forge spacy for M1 Macs\n",
    "# !python -m spacy download en_core_web_sm\n",
    "import spacy"
   ]
  },
  {
   "cell_type": "code",
   "execution_count": 35,
   "metadata": {
    "id": "o-BigQZsRLF3"
   },
   "outputs": [],
   "source": [
    "# Load English tokenizer, tagger, parser and NER\n",
    "import en_core_web_sm\n",
    "nlp = en_core_web_sm.load()\n",
    "\n",
    "# Process whole documents\n",
    "doc1 = nlp(\"I love you!\")\n",
    "doc2 = nlp(\"I like you!\")\n",
    "doc3 = nlp(\"I hate you!\") # try \"I want to kill you!\""
   ]
  },
  {
   "cell_type": "code",
   "execution_count": 11,
   "metadata": {
    "colab": {
     "base_uri": "https://localhost:8080/"
    },
    "id": "4sp3q8USRLF3",
    "outputId": "0715afa2-5226-4783-ecd2-2b6982a60e09"
   },
   "outputs": [
    {
     "name": "stdout",
     "output_type": "stream",
     "text": [
      "(96,)\n",
      "[-0.3084582   0.94249946  0.5373255  -0.6404257   0.83936286 -0.02062732\n",
      "  0.2822913   2.8635032  -0.38919526  0.84366465 -2.8050127   0.6434618\n",
      "  0.4655326   2.1145856  -0.5726727  -0.45405477 -0.7949809  -2.516512\n",
      "  0.1971691   0.43587005  0.9373497  -0.69717395  0.01782018 -0.20519567\n",
      "  0.7810625   0.14004022 -0.12856539  0.6643785  -1.0344677  -0.24542564\n",
      " -0.7963919   0.34766635 -0.8887527   0.30955204 -0.46071714 -0.6097653\n",
      " -0.45936662  0.48161077  1.2834969  -0.44925758  0.6844422   0.24552217\n",
      "  2.340739   -0.6359188   0.67759025  1.0241642   1.5847365   0.74334645\n",
      " -1.1691589  -0.05067375 -1.2526428   2.2167213  -0.2774095   2.2915359\n",
      "  0.68487734  0.28403163  0.49966747  0.12732887 -3.457587    0.17715088\n",
      "  0.45822465 -3.5682352   0.82923675  1.1110818  -2.6460907   1.0238739\n",
      "  2.1784325   0.1827113  -0.48914582 -0.83002436  0.14209649 -1.2579885\n",
      "  2.347124    0.9627906   0.4663871  -0.28538042  0.61716795 -0.22898984\n",
      " -2.0627353  -0.46770254 -0.79104507 -1.13994     1.4762244  -2.103132\n",
      "  0.0385839   0.8071161   0.9826746   1.4647799  -1.1857017  -0.69083947\n",
      " -0.25193346 -0.69086987  1.4919542   0.09398985 -1.410682   -1.3891668 ]\n"
     ]
    }
   ],
   "source": [
    "print(doc1.vector.shape)\n",
    "print(doc1.vector)"
   ]
  },
  {
   "cell_type": "code",
   "execution_count": 34,
   "metadata": {
    "colab": {
     "base_uri": "https://localhost:8080/"
    },
    "id": "r_J2o-VvRLF3",
    "outputId": "3e4f628e-f67a-49d9-e97e-d7721e0c3dfe"
   },
   "outputs": [
    {
     "name": "stdout",
     "output_type": "stream",
     "text": [
      "0.8767434547787522\n",
      "0.7632605386992446\n"
     ]
    },
    {
     "name": "stderr",
     "output_type": "stream",
     "text": [
      "<ipython-input-34-55225629982b>:1: UserWarning: [W007] The model you're using has no word vectors loaded, so the result of the Doc.similarity method will be based on the tagger, parser and NER, which may not give useful similarity judgements. This may happen if you're using one of the small models, e.g. `en_core_web_sm`, which don't ship with word vectors and only use context-sensitive tensors. You can always add your own word vectors, or use one of the larger models instead if available.\n",
      "  print(doc1.similarity(doc2))\n",
      "<ipython-input-34-55225629982b>:2: UserWarning: [W007] The model you're using has no word vectors loaded, so the result of the Doc.similarity method will be based on the tagger, parser and NER, which may not give useful similarity judgements. This may happen if you're using one of the small models, e.g. `en_core_web_sm`, which don't ship with word vectors and only use context-sensitive tensors. You can always add your own word vectors, or use one of the larger models instead if available.\n",
      "  print(doc1.similarity(doc3))\n"
     ]
    }
   ],
   "source": [
    "print(doc1.similarity(doc2))\n",
    "print(doc1.similarity(doc3))"
   ]
  }
 ],
 "metadata": {
  "colab": {
   "collapsed_sections": [
    "uHcx7YllRLFq",
    "0PN1vnl_RLFr",
    "lqBfBxiiRLFs",
    "5cbFj4WDRLFt",
    "BfeR6REVRLFv",
    "PJnsEH-6RLFw",
    "DRY1cTAHRLFy",
    "rNQFqQNKRLFz",
    "24JotAD6RLF0",
    "aEbzUhe1RLF0"
   ],
   "name": "13_examples.ipynb",
   "provenance": []
  },
  "kernelspec": {
   "display_name": "Python 3",
   "language": "python",
   "name": "python3"
  },
  "language_info": {
   "codemirror_mode": {
    "name": "ipython",
    "version": 3
   },
   "file_extension": ".py",
   "mimetype": "text/x-python",
   "name": "python",
   "nbconvert_exporter": "python",
   "pygments_lexer": "ipython3",
   "version": "3.8.8"
  }
 },
 "nbformat": 4,
 "nbformat_minor": 1
}
