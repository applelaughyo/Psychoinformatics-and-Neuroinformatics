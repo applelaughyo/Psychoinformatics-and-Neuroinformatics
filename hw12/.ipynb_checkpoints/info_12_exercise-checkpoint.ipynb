{
 "cells": [
  {
   "cell_type": "markdown",
   "metadata": {},
   "source": [
    "# Psychoinformatics - Week 12 (Exercises)\n",
    "by your name (your email)"
   ]
  },
  {
   "cell_type": "markdown",
   "metadata": {},
   "source": [
    "## 1 進一步研究 Regular Expressions (4 points)\n",
    "用urllib+re在<a href=\"https://www.csie.ntu.edu.tw/members/teacher.php?mclass1=110\">臺大資工系網頁</a>搜集教師emails."
   ]
  },
  {
   "cell_type": "code",
   "execution_count": null,
   "metadata": {},
   "outputs": [],
   "source": [
    "# Please write your codes here"
   ]
  },
  {
   "cell_type": "markdown",
   "metadata": {},
   "source": [
    "## 2 進一步研究Topic Modeling (4 points)\n",
    "對2.5 Topic Modeling的範例程式文本先過濾掉<a href=https://www.geeksforgeeks.org/removing-stop-words-nltk-python/>stop words</a>, 使5個主題能夠更加明確"
   ]
  },
  {
   "cell_type": "code",
   "execution_count": null,
   "metadata": {},
   "outputs": [],
   "source": [
    "# Please write your codes here"
   ]
  }
 ],
 "metadata": {
  "kernelspec": {
   "display_name": "Python 3",
   "language": "python",
   "name": "python3"
  },
  "language_info": {
   "codemirror_mode": {
    "name": "ipython",
    "version": 3
   },
   "file_extension": ".py",
   "mimetype": "text/x-python",
   "name": "python",
   "nbconvert_exporter": "python",
   "pygments_lexer": "ipython3",
   "version": "3.8.8"
  }
 },
 "nbformat": 4,
 "nbformat_minor": 2
}
