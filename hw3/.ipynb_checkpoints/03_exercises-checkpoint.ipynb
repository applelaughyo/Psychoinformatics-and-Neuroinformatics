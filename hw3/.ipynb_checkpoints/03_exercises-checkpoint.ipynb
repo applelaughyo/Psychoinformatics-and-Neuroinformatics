{
 "cells": [
  {
   "cell_type": "markdown",
   "metadata": {},
   "source": [
    "# Psychoinformatics - Week 3 (Exercises)\n",
    "by yourname (your email)"
   ]
  },
  {
   "cell_type": "markdown",
   "metadata": {},
   "source": [
    "## 1 Analyze what videos go viral? (8 points)"
   ]
  },
  {
   "cell_type": "markdown",
   "metadata": {},
   "source": [
    "Please use <a href=\"https://developers.google.com/youtube/v3/code_samples/python\">YouTube APIs</a> to carry out a data-driven or hypothesis-driven microstudy about the characteristics of viral videos.\n",
    "\n",
    "You need to present, here in this notebook, AT LEAST two <b>statistical</b> figures or tables as supporting evidence for your arguments. Each of these figures/tables deserves 4 points."
   ]
  },
  {
   "cell_type": "code",
   "execution_count": null,
   "metadata": {},
   "outputs": [],
   "source": [
    "# Please carry out your analysis here"
   ]
  },
  {
   "cell_type": "markdown",
   "metadata": {},
   "source": [
    "### Please submit the HTML version of your notebook to NTU COOL before next Monday (9/26)."
   ]
  }
 ],
 "metadata": {
  "kernelspec": {
   "display_name": "Python 3",
   "language": "python",
   "name": "python3"
  },
  "language_info": {
   "codemirror_mode": {
    "name": "ipython",
    "version": 3
   },
   "file_extension": ".py",
   "mimetype": "text/x-python",
   "name": "python",
   "nbconvert_exporter": "python",
   "pygments_lexer": "ipython3",
   "version": "3.8.8"
  }
 },
 "nbformat": 4,
 "nbformat_minor": 2
}
